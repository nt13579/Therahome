{
 "cells": [
  {
   "cell_type": "code",
   "execution_count": 1,
   "metadata": {},
   "outputs": [],
   "source": [
    "import tkinter as tk\n",
    "import os\n",
    "from bash import bash\n",
    "import time\n",
    "from selenium import webdriver\n",
    "from selenium.webdriver.common.keys import Keys\n",
    "import StreamHandler as st\n",
    "from selenium.webdriver.chrome.options import Options\n",
    "import webbrowser as wb\n",
    "import pyautogui\n",
    "\n"
   ]
  },
  {
   "cell_type": "code",
   "execution_count": null,
   "metadata": {},
   "outputs": [],
   "source": []
  },
  {
   "cell_type": "code",
   "execution_count": 2,
   "metadata": {},
   "outputs": [],
   "source": [
    "train_vid_dir = '/home/nickt/Therahome/Videos/Training/'\n",
    "main_dir = '/home/nickt/Therahome/'\n",
    "pcf = '/home/nickt/Therahome/Therahome-Nick-2021-05-12/config.yaml'\n",
    "\n",
    "os.chdir(main_dir)\n",
    "vid_dir = os.path.join(main_dir, 'Videos/Training')"
   ]
  },
  {
   "cell_type": "code",
   "execution_count": 3,
   "metadata": {},
   "outputs": [
    {
     "name": "stdout",
     "output_type": "stream",
     "text": [
      "opening game\n",
      "recording\n",
      "/home/nickt/Therahome/Therahome-Nick-2021-05-12/dlc-models/iteration-0/TherahomeMay12-trainset95shuffle1/test/pose_cfg.yaml\n",
      "Using snapshot-810000 for model /home/nickt/Therahome/Therahome-Nick-2021-05-12/dlc-models/iteration-0/TherahomeMay12-trainset95shuffle1\n",
      "Initializing MobileNet\n",
      "INFO:tensorflow:Restoring parameters from /home/nickt/Therahome/Therahome-Nick-2021-05-12/dlc-models/iteration-0/TherahomeMay12-trainset95shuffle1/train/snapshot-810000\n"
     ]
    },
    {
     "name": "stderr",
     "output_type": "stream",
     "text": [
      "INFO:tensorflow:Restoring parameters from /home/nickt/Therahome/Therahome-Nick-2021-05-12/dlc-models/iteration-0/TherahomeMay12-trainset95shuffle1/train/snapshot-810000\n",
      "/home/nickt/Therahome/StreamHandler.py:669: YAMLLoadWarning: calling yaml.load() without Loader=... is deprecated, as the default Loader is unsafe. Please read https://msg.pyyaml.org/load for full details.\n",
      "  tmpcfg = yaml.load(config)\n",
      "/home/nickt/Therahome/StreamHandler.py:671: YAMLLoadWarning: calling yaml.load() without Loader=... is deprecated, as the default Loader is unsafe. Please read https://msg.pyyaml.org/load for full details.\n",
      "  tmpcfg = yaml.load(stream)\n"
     ]
    },
    {
     "name": "stdout",
     "output_type": "stream",
     "text": [
      "behavior1Keyboard listening stopped.\n",
      "###STOPPING###\n",
      "Stopping\n"
     ]
    }
   ],
   "source": [
    "\n",
    "# Create a window object\n",
    "window = tk.Tk()\n",
    "window.configure(bg=\"#6B7860\")\n",
    "\n",
    "window.geometry(\"+120+120\")\n",
    "# Create an event handler\n",
    "def handle_keypress(event):\n",
    "    print(\"The button was clicked!\")\n",
    "\n",
    "def handle_click(event):\n",
    "    print(\"The button was clicked!\")\n",
    "\n",
    "def open_game(event, version = 'selenium'):\n",
    "    print(\"opening game\")\n",
    "    if version == 'local':\n",
    "        print('Opening')\n",
    "        bash('/home/nickt/MSC2-Linux/MSC2.x86_64 &')\n",
    "        bash('wmctrl -r Madalin Stunt Cars 2 -e 0,2700,0,640,480')\n",
    "        print('resizing')\n",
    "    elif version == 'selenium':\n",
    "        chrome_options = Options()\n",
    "        chrome_options.add_experimental_option(\"detach\", True)\n",
    "        driver = webdriver.Chrome(options=chrome_options)\n",
    "        driver.get('https://madalinstuntcars2.io/')\n",
    "        screen_size = pyautogui.size()\n",
    "        x_coord = screen_size[0] - 900\n",
    "        driver.set_window_position(x_coord, 0)\n",
    "\n",
    "\n",
    "def start_recording(event):\n",
    "    print('recording')\n",
    "    stream = st.StreamHandler([0], classify_behavior=True, dropFrames = True, \n",
    "                     behavior_model_path=os.path.join(main_dir, 'SVM_BasicMovement.sav'),\n",
    "                     implement_control=True)\n",
    "    stream.beginCapture(pcf ,labelVideo=True, shuffle =1)\n",
    "\n",
    "window.rowconfigure(0, weight=1, minsize=250)\n",
    "window.rowconfigure(1, weight=1, minsize=50)\n",
    "for i in range(4):\n",
    "    window.columnconfigure(i, weight=1, minsize=75)  \n",
    "\n",
    "logo_frame = tk.Frame(window, bg=\"#A4BCA4\")\n",
    "logo_frame.grid(row=0, columnspan=4, padx=10, pady=10)\n",
    "\n",
    "# adjust the path for your system\n",
    "therahome_logo = tk.PhotoImage(file='/home/nickt/Therahome/logo.png')\n",
    "logo = tk.Label(logo_frame, image=therahome_logo)\n",
    "logo.pack()\n",
    "\n",
    "frame0 = tk.Frame(window, relief=tk.RAISED, borderwidth=1, bg=\"#A4BCA4\")\n",
    "frame0.grid(row=1, column=0, padx=10, pady=10)\n",
    "\n",
    "button0 = tk.Button(frame0, text=f\"Launch Game\", bg=\"#A4BCA4\")\n",
    "button0.bind(\"<Button-1>\", open_game)\n",
    "button0.pack(padx=2, pady=2)\n",
    "\n",
    "frame1 = tk.Frame(window, relief=tk.RAISED, borderwidth=1, bg=\"#A4BCA4\")\n",
    "frame1.grid(row=1, column=1, padx=10, pady=10)\n",
    "\n",
    "button1 = tk.Button(frame1, text=f\"Start Recording\", bg=\"#A4BCA4\")\n",
    "button1.bind(\"<Button-1>\", start_recording)\n",
    "button1.pack(padx=2, pady=2)\n",
    "\n",
    "frame2 = tk.Frame(window, relief=tk.RAISED, borderwidth=1, bg=\"#A4BCA4\")\n",
    "frame2.grid(row=1, column=2, padx=10, pady=10)\n",
    "\n",
    "button2 = tk.Button(frame2, text=f\"View Instructions\", bg=\"#A4BCA4\")\n",
    "# TODO: Add instructions page/method\n",
    "# button2.bind(\"<Button-1>\", view_instructions)\n",
    "button2.pack(padx=2, pady=2)\n",
    "\n",
    "frame3 = tk.Frame(window, relief=tk.RAISED, borderwidth=1, bg=\"#A4BCA4\")\n",
    "frame3.grid(row=1, column=3, padx=10, pady=10)\n",
    "\n",
    "button3 = tk.Button(frame3, text=f\"Close\", bg=\"#A4BCA4\", command=window.destroy)\n",
    "# @ NICK do we need a stop recording button or will it save everything even if it just closes?\n",
    "# button3.bind(\"<Button-1>\", stop_recording)\n",
    "button3.pack(padx=2, pady=2)\n",
    "\n",
    "# Run the event loop\n",
    "window.mainloop()"
   ]
  },
  {
   "cell_type": "code",
   "execution_count": null,
   "metadata": {},
   "outputs": [
    {
     "name": "stdout",
     "output_type": "stream",
     "text": [
      "/home/nickt/Therahome/Therahome-Nick-2021-05-12/dlc-models/iteration-0/TherahomeMay12-trainset95shuffle1/test/pose_cfg.yaml\n",
      "Using snapshot-810000 for model /home/nickt/Therahome/Therahome-Nick-2021-05-12/dlc-models/iteration-0/TherahomeMay12-trainset95shuffle1\n",
      "Initializing MobileNet\n",
      "INFO:tensorflow:Restoring parameters from /home/nickt/Therahome/Therahome-Nick-2021-05-12/dlc-models/iteration-0/TherahomeMay12-trainset95shuffle1/train/snapshot-810000\n"
     ]
    },
    {
     "name": "stderr",
     "output_type": "stream",
     "text": [
      "INFO:tensorflow:Restoring parameters from /home/nickt/Therahome/Therahome-Nick-2021-05-12/dlc-models/iteration-0/TherahomeMay12-trainset95shuffle1/train/snapshot-810000\n",
      "/home/nickt/Therahome/StreamHandler.py:669: YAMLLoadWarning: calling yaml.load() without Loader=... is deprecated, as the default Loader is unsafe. Please read https://msg.pyyaml.org/load for full details.\n",
      "  tmpcfg = yaml.load(config)\n",
      "/home/nickt/Therahome/StreamHandler.py:671: YAMLLoadWarning: calling yaml.load() without Loader=... is deprecated, as the default Loader is unsafe. Please read https://msg.pyyaml.org/load for full details.\n",
      "  tmpcfg = yaml.load(stream)\n"
     ]
    }
   ],
   "source": [
    "stream = st.StreamHandler([2], classify_behavior=True, dropFrames = True, \n",
    "                          behavior_model_path=os.path.join(main_dir, 'SVM_BasicMovement.sav'),\n",
    "                          implement_control=True)\n",
    "stream.beginCapture(pcf ,labelVideo=True, shuffle =1)"
   ]
  },
  {
   "cell_type": "code",
   "execution_count": 10,
   "metadata": {},
   "outputs": [
    {
     "ename": "IndentationError",
     "evalue": "unexpected indent (<ipython-input-10-c2ad9d78d8ae>, line 23)",
     "output_type": "error",
     "traceback": [
      "\u001b[0;36m  File \u001b[0;32m\"<ipython-input-10-c2ad9d78d8ae>\"\u001b[0;36m, line \u001b[0;32m23\u001b[0m\n\u001b[0;31m    stream = st.StreamHandler([2], classify_behavior=True, dropFrames = True,\u001b[0m\n\u001b[0m    ^\u001b[0m\n\u001b[0;31mIndentationError\u001b[0m\u001b[0;31m:\u001b[0m unexpected indent\n"
     ]
    }
   ],
   "source": [
    "# Create a window object\n",
    "window = tk.Tk()\n",
    "\n",
    "# Create an event handler\n",
    "def handle_keypress(event):\n",
    "    print(\"The button was clicked!\")\n",
    "\n",
    "def handle_click(event):\n",
    "    print(\"The button was clicked!\")\n",
    "    \n",
    "def open_game(event, version = 'selenium'):\n",
    "    if version == 'local':\n",
    "        print('Opening')\n",
    "        bash('/home/nickt/MSC2-Linux/MSC2.x86_64 &')\n",
    "        bash('wmctrl -r Madalin Stunt Cars 2 -e 0,2700,0,640,480')\n",
    "        print('resizing')\n",
    "    elif version == 'selenium':\n",
    "        chrome_options = Options()\n",
    "        chrome_options.add_experimental_option(\"detach\", True)\n",
    "        driver = webdriver.Chrome(options=chrome_options)\n",
    "        driver.get('https://madalinstuntcars2.io/')\n",
    "        driver.set_window_position(3220, 0)\n",
    "            stream = st.StreamHandler([2], classify_behavior=True, dropFrames = True, \n",
    "                          behavior_model_path=os.path.join(main_dir, 'SVM_BasicMovement.sav'),\n",
    "                          implement_control=True)\n",
    "            \n",
    "def start_recording(event):\n",
    "    print('recording')\n",
    "    stream = st.StreamHandler([2], classify_behavior=True, dropFrames = True, \n",
    "                              behavior_model_path=os.path.join(main_dir, 'SVM_BasicMovement.sav'),\n",
    "                              implement_control=True)\n",
    "    stream.beginCapture(pcf ,labelVideo=True, shuffle =1)\n",
    "\n",
    "def stop(event):\n",
    "    print(\"stopping\")\n",
    "    \n",
    "button = tk.Button(text=\"Launch Game\")\n",
    "button2 = tk.Button(text='Start')\n",
    "button3 = tk.Button(text='Stop')\n",
    "\n",
    "button.bind(\"<Button-1>\", open_game)\n",
    "button2.bind(\"<Button-1>\", start_recording)\n",
    "button3.bind(\"<Button-1>\", stop)\n",
    "\n",
    "\n",
    "\n",
    "button.pack()\n",
    "button2.pack()\n",
    "button3.pack()\n",
    "\n",
    "\n",
    "# Run the event loop\n",
    "window.mainloop()"
   ]
  },
  {
   "cell_type": "code",
   "execution_count": 4,
   "metadata": {},
   "outputs": [
    {
     "ename": "NameError",
     "evalue": "name 'stream' is not defined",
     "output_type": "error",
     "traceback": [
      "\u001b[0;31m---------------------------------------------------------------------------\u001b[0m",
      "\u001b[0;31mNameError\u001b[0m                                 Traceback (most recent call last)",
      "\u001b[0;32m<ipython-input-4-00e85bc4da7c>\u001b[0m in \u001b[0;36m<module>\u001b[0;34m()\u001b[0m\n\u001b[0;32m----> 1\u001b[0;31m \u001b[0mstream\u001b[0m\u001b[0;34m.\u001b[0m\u001b[0mfilterd_behavior\u001b[0m\u001b[0;34m\u001b[0m\u001b[0;34m\u001b[0m\u001b[0m\n\u001b[0m",
      "\u001b[0;31mNameError\u001b[0m: name 'stream' is not defined"
     ]
    }
   ],
   "source": [
    "stream.filterd_behavior"
   ]
  },
  {
   "cell_type": "code",
   "execution_count": 18,
   "metadata": {},
   "outputs": [
    {
     "data": {
      "text/plain": [
       "True"
      ]
     },
     "execution_count": 18,
     "metadata": {},
     "output_type": "execute_result"
    }
   ],
   "source": [
    "\n"
   ]
  },
  {
   "cell_type": "code",
   "execution_count": 26,
   "metadata": {},
   "outputs": [],
   "source": [
    "from selenium import webdriver\n",
    "from selenium.webdriver.common.keys import Keys\n",
    "\n",
    "driver = webdriver.Chrome()\n",
    "driver.get('https://madalinstuntcars2.io/')\n",
    "\n"
   ]
  },
  {
   "cell_type": "code",
   "execution_count": 29,
   "metadata": {},
   "outputs": [
    {
     "data": {
      "text/plain": [
       "{'height': 1396, 'width': 1265, 'x': 3215, 'y': 34}"
      ]
     },
     "execution_count": 29,
     "metadata": {},
     "output_type": "execute_result"
    }
   ],
   "source": [
    "    \n"
   ]
  },
  {
   "cell_type": "code",
   "execution_count": 5,
   "metadata": {},
   "outputs": [],
   "source": [
    "driver.close()"
   ]
  },
  {
   "cell_type": "raw",
   "metadata": {},
   "source": [
    "import time\n",
    "from pynput import keyboard as kb\n",
    "import pyautogui as pa\n",
    "\n",
    "with open('binInput2') as binary:\n",
    "\n",
    "    time.sleep(3)\n",
    "    print(\"input:\")\n",
    "    pa.keyDown('up')\n",
    "    d = 3\n",
    "\n",
    "    class Presses:\n",
    "        shifts = 0\n",
    "    presses = Presses()\n",
    "    def on_release(key):\n",
    "        if (key == kb.Key.shift or key == kb.Key.shift_r or key == kb.Key.shift_l):\n",
    "            presses.shifts += 1\n",
    "        if key == kb.Key.esc:\n",
    "            print(\"Keyboard listening stopped.\")\n",
    "            # Stop listener\n",
    "            return False\n",
    "    listener = kb.Listener(on_release=on_release)\n",
    "    listener.start()\n",
    "\n",
    "    while True:\n",
    "        c = binary.read(1)\n",
    "        if (not c or presses.shifts >= 3):\n",
    "            print(\"\\npresses: \", presses.shifts)\n",
    "            print(\"stopped.\")\n",
    "            pa.keyDown('esc')\n",
    "            pa.keyUp('esc')\n",
    "            break\n",
    "        if (c != d):\n",
    "            print(\"\\npresses: \", presses.shifts)\n",
    "            if (c == \"2\"):\n",
    "                pa.keyUp('left')\n",
    "                print(\"right\", end=\"  \")\n",
    "                pa.keyDown('right')\n",
    "            elif (c == \"1\"):\n",
    "                pa.keyUp('right')\n",
    "                print(\"left\", end=\"  \")\n",
    "                pa.keyDown('left')\n",
    "            elif (c == \"0\"):\n",
    "                print(\"straight\", end=\"  \")\n",
    "                pa.keyUp('left')\n",
    "                pa.keyUp('right')\n",
    "            d = c\n",
    "        time.sleep(0.03)\n",
    "    pa.keyDown('esc')\n",
    "    pa.keyUp('esc')\n",
    "    pa.keyUp('left')\n",
    "    pa.keyUp('right')\n",
    "    pa.keyUp('up')"
   ]
  }
 ],
 "metadata": {
  "kernelspec": {
   "display_name": "Python (dlc)\n\n",
   "language": "python",
   "name": "dlc"
  },
  "language_info": {
   "codemirror_mode": {
    "name": "ipython",
    "version": 3
   },
   "file_extension": ".py",
   "mimetype": "text/x-python",
   "name": "python",
   "nbconvert_exporter": "python",
   "pygments_lexer": "ipython3",
   "version": "3.6.9"
  }
 },
 "nbformat": 4,
 "nbformat_minor": 2
}
